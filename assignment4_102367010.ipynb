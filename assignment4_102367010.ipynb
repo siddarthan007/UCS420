{
 "cells": [
  {
   "cell_type": "code",
   "execution_count": 91,
   "id": "715aa436-3d52-48ce-9ae1-b8c1b3094a65",
   "metadata": {},
   "outputs": [],
   "source": [
    "import numpy as np"
   ]
  },
  {
   "cell_type": "markdown",
   "id": "454df9e0-94c1-4d77-8149-d6e651857d6d",
   "metadata": {},
   "source": [
    "# Q.1 Write a program to create a NumPy 1D-array with 5 elements and perform basic operations like:\n",
    "- Addition of 2 in all the element\n",
    "- Multiply 3 with all the elements\n",
    "- Divide every element by 2"
   ]
  },
  {
   "cell_type": "code",
   "execution_count": 93,
   "id": "1e60d7d9-375a-4271-9b62-14532400dd0f",
   "metadata": {},
   "outputs": [],
   "source": [
    "a = np.array([0, 1, 2, 3, 4])"
   ]
  },
  {
   "cell_type": "code",
   "execution_count": 95,
   "id": "1badcba8-b5f6-4a36-8859-f07c62e1bc82",
   "metadata": {},
   "outputs": [
    {
     "name": "stdout",
     "output_type": "stream",
     "text": [
      "[2 3 4 5 6]\n"
     ]
    }
   ],
   "source": [
    "print(a + 2)"
   ]
  },
  {
   "cell_type": "code",
   "execution_count": 97,
   "id": "e3d8d9f5-fb7c-48fa-a8c7-43647304edf6",
   "metadata": {},
   "outputs": [
    {
     "name": "stdout",
     "output_type": "stream",
     "text": [
      "[ 0  3  6  9 12]\n"
     ]
    }
   ],
   "source": [
    "print(a * 3)"
   ]
  },
  {
   "cell_type": "code",
   "execution_count": 99,
   "id": "58a6b10f-51e0-4cb2-92c0-92579c9a6f6e",
   "metadata": {},
   "outputs": [
    {
     "name": "stdout",
     "output_type": "stream",
     "text": [
      "[0.  0.5 1.  1.5 2. ]\n"
     ]
    }
   ],
   "source": [
    "print(a / 2)"
   ]
  },
  {
   "cell_type": "markdown",
   "id": "9b2c1f69-742c-4ed7-bdd8-de1694a5b8ae",
   "metadata": {},
   "source": [
    "# Q.2 Questions on Basic NumPy Array:\n",
    "- Reverse the NumPy array: arr = np.array([1, 2, 3, 6, 4, 5])\n",
    "- Find the most frequent value and their indice(s) in the following arrays:\n",
    "    - x = np.array([1,2,3,4,5,1,2,1,1,1])\n",
    "    - y = np.array([1, 1, 1, 2, 3, 4, 2, 4, 3, 3, ])"
   ]
  },
  {
   "cell_type": "code",
   "execution_count": 101,
   "id": "3547503a-fc99-4044-affe-446c8cc482af",
   "metadata": {},
   "outputs": [],
   "source": [
    "arr = np.array([1, 2, 3, 4, 5])"
   ]
  },
  {
   "cell_type": "code",
   "execution_count": 103,
   "id": "72c7e306-b597-47fd-813f-047f7e4084e8",
   "metadata": {},
   "outputs": [
    {
     "name": "stdout",
     "output_type": "stream",
     "text": [
      "[5 4 3 2 1]\n"
     ]
    }
   ],
   "source": [
    "print(np.flip(arr))"
   ]
  },
  {
   "cell_type": "code",
   "execution_count": 105,
   "id": "b9e8825e-92a2-43be-a987-18815dbc6116",
   "metadata": {},
   "outputs": [
    {
     "name": "stdout",
     "output_type": "stream",
     "text": [
      "Most frequent values: 1\n",
      "Their indices: [0 5 7 8 9]\n"
     ]
    }
   ],
   "source": [
    "x = np.array([1, 2, 3, 4, 5, 1, 2, 1, 1, 1])\n",
    "freq = np.bincount(x).argmax()\n",
    "print(\"Most frequent values:\", freq)\n",
    "print(\"Their indices:\", np.where(x == freq)[0])"
   ]
  },
  {
   "cell_type": "code",
   "execution_count": 107,
   "id": "05d74455-9649-4fcd-85b0-ff77fafed662",
   "metadata": {},
   "outputs": [
    {
     "name": "stdout",
     "output_type": "stream",
     "text": [
      "Most frequent values: 1\n",
      "Their indices: [0 1 2]\n"
     ]
    }
   ],
   "source": [
    "y = np.array([1, 1, 1, 2, 3, 4, 2, 4, 3, 3])\n",
    "freq = np.bincount(y).argmax()\n",
    "print(\"Most frequent values:\", freq)\n",
    "print(\"Their indices:\", np.where(y == freq)[0])"
   ]
  },
  {
   "cell_type": "markdown",
   "id": "5d842852-54a3-4884-81f4-eb7910d5cf76",
   "metadata": {},
   "source": [
    "# Q.3 For the given 2-D array arr=np.array([10, 20, 30], [40, 50, 60], [70, 80, 90]), access elements using row and column indices as follows:\n",
    "- Access 1st row, 2nd column\n",
    "- Access 3rd row, 1st column"
   ]
  },
  {
   "cell_type": "code",
   "execution_count": 109,
   "id": "772b7441-453d-470f-8012-2ea0dbb4e530",
   "metadata": {},
   "outputs": [],
   "source": [
    "arr = np.array([[10, 20, 30], [40, 50, 60], [70, 80, 90]])"
   ]
  },
  {
   "cell_type": "code",
   "execution_count": 111,
   "id": "2933cdde-ae49-4f97-aab4-52e749331b86",
   "metadata": {},
   "outputs": [
    {
     "data": {
      "text/plain": [
       "20"
      ]
     },
     "execution_count": 111,
     "metadata": {},
     "output_type": "execute_result"
    }
   ],
   "source": [
    "arr[0][1]"
   ]
  },
  {
   "cell_type": "code",
   "execution_count": 113,
   "id": "b4a36d26-9544-451e-b994-b3ce9d403f1e",
   "metadata": {},
   "outputs": [
    {
     "data": {
      "text/plain": [
       "70"
      ]
     },
     "execution_count": 113,
     "metadata": {},
     "output_type": "execute_result"
    }
   ],
   "source": [
    "arr[2][0]"
   ]
  },
  {
   "cell_type": "markdown",
   "id": "d100d5ea-9b94-4c25-bad6-a3558e0d7362",
   "metadata": {},
   "source": [
    "# Q.4 Write program to create an 1-D NumPy array named \"Your Name\" with evenly spaced 25 numbers from 10 to 100 using linspace(). Print the dimensions of the array, shape, total elements, the data type of each element and total number of bytes consumed by the array. Find the transpose of this array using reshape() attribute. Can we do the same with T attribute?"
   ]
  },
  {
   "cell_type": "code",
   "execution_count": 115,
   "id": "9e5a6b85-7f75-4657-abdc-2b3b555b372a",
   "metadata": {},
   "outputs": [
    {
     "name": "stdout",
     "output_type": "stream",
     "text": [
      "Array: [ 10.    13.75  17.5   21.25  25.    28.75  32.5   36.25  40.    43.75\n",
      "  47.5   51.25  55.    58.75  62.5   66.25  70.    73.75  77.5   81.25\n",
      "  85.    88.75  92.5   96.25 100.  ]\n",
      "Dimension: 1\n",
      "Shape: (25,)\n",
      "Total Size: 25\n",
      "Data Type: float64\n",
      "Total Bytes: 200\n",
      "Transpose with reshape: [[ 10.  ]\n",
      " [ 13.75]\n",
      " [ 17.5 ]\n",
      " [ 21.25]\n",
      " [ 25.  ]\n",
      " [ 28.75]\n",
      " [ 32.5 ]\n",
      " [ 36.25]\n",
      " [ 40.  ]\n",
      " [ 43.75]\n",
      " [ 47.5 ]\n",
      " [ 51.25]\n",
      " [ 55.  ]\n",
      " [ 58.75]\n",
      " [ 62.5 ]\n",
      " [ 66.25]\n",
      " [ 70.  ]\n",
      " [ 73.75]\n",
      " [ 77.5 ]\n",
      " [ 81.25]\n",
      " [ 85.  ]\n",
      " [ 88.75]\n",
      " [ 92.5 ]\n",
      " [ 96.25]\n",
      " [100.  ]]\n",
      "Transpose with T: [ 10.    13.75  17.5   21.25  25.    28.75  32.5   36.25  40.    43.75\n",
      "  47.5   51.25  55.    58.75  62.5   66.25  70.    73.75  77.5   81.25\n",
      "  85.    88.75  92.5   96.25 100.  ]\n"
     ]
    }
   ],
   "source": [
    "siddartha = np.linspace(10, 100, 25)\n",
    "\n",
    "print(\"Array:\", siddartha)\n",
    "print(\"Dimension:\", siddartha.ndim)\n",
    "print(\"Shape:\", siddartha.shape)\n",
    "print(\"Total Size:\", siddartha.size)\n",
    "print(\"Data Type:\", siddartha.dtype)\n",
    "print(\"Total Bytes:\", siddartha.nbytes)\n",
    "\n",
    "siddartha_t = siddartha.reshape(25, 1)\n",
    "print(\"Transpose with reshape:\", siddartha_t)\n",
    "\n",
    "siddartha_t_direct = siddartha.T\n",
    "print(\"Transpose with T:\", siddartha_t_direct)"
   ]
  },
  {
   "cell_type": "markdown",
   "id": "0250e18f-4a9c-4c36-9e2b-e8348b041a4f",
   "metadata": {},
   "source": [
    "# Q5. Create a 2-D Array of three rows and four columns, named ucs420_your_name with following values – 10, 20, 30, 40, 50, 60, 70, 80, 90, 15, 20, 35. Compute the mean, median, max, min, unique elements. Reshape the array to four rows and three columns and name it as reshaped_ ucs420_your_name. Resize the array to two rows and three columns and name it as resized_ ucs420_your_name."
   ]
  },
  {
   "cell_type": "code",
   "execution_count": 121,
   "id": "2f3ee56c-c80a-4dbb-bcc0-bfc0d8e00f93",
   "metadata": {},
   "outputs": [
    {
     "name": "stdout",
     "output_type": "stream",
     "text": [
      "Mean: 43.333333333333336\n",
      "Median: 37.5\n",
      "Max: 90\n",
      "Unique: [10 15 20 30 35 40 50 60 70 80 90]\n",
      "Reshaped: [[10 20 30]\n",
      " [40 50 60]\n",
      " [70 80 90]\n",
      " [15 20 35]]\n",
      "Resized: [[10 20 30]\n",
      " [40 50 60]]\n"
     ]
    }
   ],
   "source": [
    "ucs420_siddartha = np.array([[10, 20, 30, 40], [50, 60, 70, 80], [90, 15, 20, 35]])\n",
    "mean_val = np.mean(ucs420_siddartha)\n",
    "median_val = np.median(ucs420_siddartha)\n",
    "max_val = np.max(ucs420_siddartha)\n",
    "min_val = np.min(ucs420_siddartha)\n",
    "unique = np.unique(ucs420_siddartha)\n",
    "\n",
    "print(\"Mean:\", mean_val)\n",
    "print(\"Median:\", median_val)\n",
    "print(\"Max:\", max_val)\n",
    "print(\"Unique:\", unique)\n",
    "\n",
    "reshaped_ucs420_siddartha = ucs420_siddartha.reshape(4, 3)\n",
    "print(\"Reshaped:\", reshaped_ucs420_siddartha)\n",
    "\n",
    "copy = ucs420_siddartha.copy()\n",
    "\n",
    "resized_ucs420_siddartha = np.resize(copy, (2,3))\n",
    "print(\"Resized:\", resized_ucs420_siddartha)"
   ]
  }
 ],
 "metadata": {
  "kernelspec": {
   "display_name": "Python 3 (ipykernel)",
   "language": "python",
   "name": "python3"
  },
  "language_info": {
   "codemirror_mode": {
    "name": "ipython",
    "version": 3
   },
   "file_extension": ".py",
   "mimetype": "text/x-python",
   "name": "python",
   "nbconvert_exporter": "python",
   "pygments_lexer": "ipython3",
   "version": "3.12.8"
  }
 },
 "nbformat": 4,
 "nbformat_minor": 5
}
