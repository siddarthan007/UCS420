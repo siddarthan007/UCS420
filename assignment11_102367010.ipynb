{
 "cells": [
  {
   "cell_type": "markdown",
   "id": "325372d5-45af-4f2a-8343-d2517532d59d",
   "metadata": {},
   "source": [
    "# Q1. Design a Cognitive Assistant for Reading Labels of medicine bottle (You can download Dataset from Internet)"
   ]
  },
  {
   "cell_type": "markdown",
   "id": "26dced55-de61-49ef-9f1b-36f57f904043",
   "metadata": {},
   "source": [
    "![image](img/1.png)\n",
    "![image](img/2.png)\n",
    "![image](img/3.png)"
   ]
  },
  {
   "cell_type": "markdown",
   "id": "ef2ff893-c7c6-4cdd-bf4c-7bd0d00a9c8b",
   "metadata": {},
   "source": [
    "# Q2. Design an Emotion-aware Cognitive Assistant using Facial Expression Detection"
   ]
  },
  {
   "cell_type": "markdown",
   "id": "b0725c6c-4f8e-4351-b73b-12ba3b8ca6e6",
   "metadata": {},
   "source": [
    "![image](img/4.png)\n",
    "![image](img/5.png)\n",
    "![image](img/6.png)"
   ]
  }
 ],
 "metadata": {
  "kernelspec": {
   "display_name": "Python 3 (ipykernel)",
   "language": "python",
   "name": "python3"
  },
  "language_info": {
   "codemirror_mode": {
    "name": "ipython",
    "version": 3
   },
   "file_extension": ".py",
   "mimetype": "text/x-python",
   "name": "python",
   "nbconvert_exporter": "python",
   "pygments_lexer": "ipython3",
   "version": "3.12.9"
  }
 },
 "nbformat": 4,
 "nbformat_minor": 5
}
