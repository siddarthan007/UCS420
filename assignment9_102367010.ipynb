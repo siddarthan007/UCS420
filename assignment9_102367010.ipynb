{
 "cells": [
  {
   "cell_type": "markdown",
   "id": "c9c657df-f6a4-4cdc-844f-697078ab3480",
   "metadata": {},
   "source": [
    "# Q1. Write a unique paragraph (5-6 sentences) about your favorite topic (e.g., sports, technology, food, books, etc.).\n",
    "1. Convert text to lowercase and remove punctuation.\n",
    "2. Tokenize the text into words and sentences.\n",
    "3. Remove stopwords (using NLTK's stopwords list).\n",
    "4. Display word frequency distribution (excluding stopwords)."
   ]
  },
  {
   "cell_type": "code",
   "execution_count": 1,
   "id": "0b782ef5-dc58-46b2-941d-fdbe67508a4a",
   "metadata": {},
   "outputs": [],
   "source": [
    "import nltk\n",
    "import re\n",
    "import string\n",
    "from nltk.corpus import stopwords\n",
    "from nltk.tokenize import word_tokenize, sent_tokenize\n",
    "from nltk.stem import PorterStemmer, LancasterStemmer, WordNetLemmatizer"
   ]
  },
  {
   "cell_type": "code",
   "execution_count": 2,
   "id": "b355d0fe-3cd5-4392-89ba-c2ab6cfe471d",
   "metadata": {},
   "outputs": [
    {
     "name": "stderr",
     "output_type": "stream",
     "text": [
      "[nltk_data] Downloading package punkt to /home/siddartha/nltk_data...\n",
      "[nltk_data]   Package punkt is already up-to-date!\n",
      "[nltk_data] Downloading package stopwords to\n",
      "[nltk_data]     /home/siddartha/nltk_data...\n",
      "[nltk_data]   Package stopwords is already up-to-date!\n",
      "[nltk_data] Downloading package wordnet to\n",
      "[nltk_data]     /home/siddartha/nltk_data...\n",
      "[nltk_data]   Package wordnet is already up-to-date!\n",
      "[nltk_data] Downloading package punkt_tab to\n",
      "[nltk_data]     /home/siddartha/nltk_data...\n",
      "[nltk_data]   Package punkt_tab is already up-to-date!\n"
     ]
    },
    {
     "data": {
      "text/plain": [
       "True"
      ]
     },
     "execution_count": 2,
     "metadata": {},
     "output_type": "execute_result"
    }
   ],
   "source": [
    "nltk.download('punkt')\n",
    "nltk.download('stopwords')\n",
    "nltk.download('wordnet')\n",
    "nltk.download('punkt_tab')"
   ]
  },
  {
   "cell_type": "code",
   "execution_count": 3,
   "id": "6048a720-d227-491e-b378-f2492f6bd3aa",
   "metadata": {},
   "outputs": [],
   "source": [
    "text = \"\"\"\n",
    "Artificial Intelligence (AI) is reshaping the world in ways we never imagined. From smart assistants like Alexa to autonomous vehicles, AI is becoming part of everyday life. The rise of machine learning algorithms has made it possible to predict outcomes with jaw-dropping accuracy. Companies like OpenAI and DeepMind are pushing the boundaries of what's possible with large language models. If you're curious about AI projects, check out www.futureofai.org for some mind-blowing innovations. Researchers often share insights via email, like at ai.research@futuremail.com, to collaborate and exchange ideas. AI has even entered healthcare, assisting doctors in diagnosing diseases faster and more accurately. However, there are concerns about job automation, data privacy, and ethical implications. If you ever want to attend an AI workshop, call +91 9876543210 — they’re happening worldwide. Despite the challenges, one thing is certain: AI isn’t just the future — it’s already here.\n",
    "\"\"\""
   ]
  },
  {
   "cell_type": "code",
   "execution_count": 4,
   "id": "9f136109-6c41-403e-8400-59c8a5a083a1",
   "metadata": {},
   "outputs": [
    {
     "name": "stdout",
     "output_type": "stream",
     "text": [
      "\n",
      "artificial intelligence ai is reshaping the world in ways we never imagined from smart assistants like alexa to autonomous vehicles ai is becoming part of everyday life the rise of machine learning algorithms has made it possible to predict outcomes with jawdropping accuracy companies like openai and deepmind are pushing the boundaries of whats possible with large language models if youre curious about ai projects check out wwwfutureofaiorg for some mindblowing innovations researchers often share insights via email like at airesearchfuturemailcom to collaborate and exchange ideas ai has even entered healthcare assisting doctors in diagnosing diseases faster and more accurately however there are concerns about job automation data privacy and ethical implications if you ever want to attend an ai workshop call 91 9876543210 — they’re happening worldwide despite the challenges one thing is certain ai isn’t just the future — it’s already here\n",
      "\n"
     ]
    }
   ],
   "source": [
    "text_lower = text.lower()\n",
    "text_clean = text_lower.translate(str.maketrans('', '', string.punctuation))\n",
    "print(text_clean)"
   ]
  },
  {
   "cell_type": "code",
   "execution_count": 5,
   "id": "88b8a947-fd38-4b71-9698-2a0c5db54743",
   "metadata": {},
   "outputs": [
    {
     "name": "stdout",
     "output_type": "stream",
     "text": [
      "['artificial', 'intelligence', 'ai', 'is', 'reshaping', 'the', 'world', 'in', 'ways', 'we', 'never', 'imagined', 'from', 'smart', 'assistants', 'like', 'alexa', 'to', 'autonomous', 'vehicles', 'ai', 'is', 'becoming', 'part', 'of', 'everyday', 'life', 'the', 'rise', 'of', 'machine', 'learning', 'algorithms', 'has', 'made', 'it', 'possible', 'to', 'predict', 'outcomes', 'with', 'jawdropping', 'accuracy', 'companies', 'like', 'openai', 'and', 'deepmind', 'are', 'pushing', 'the', 'boundaries', 'of', 'whats', 'possible', 'with', 'large', 'language', 'models', 'if', 'youre', 'curious', 'about', 'ai', 'projects', 'check', 'out', 'wwwfutureofaiorg', 'for', 'some', 'mindblowing', 'innovations', 'researchers', 'often', 'share', 'insights', 'via', 'email', 'like', 'at', 'airesearchfuturemailcom', 'to', 'collaborate', 'and', 'exchange', 'ideas', 'ai', 'has', 'even', 'entered', 'healthcare', 'assisting', 'doctors', 'in', 'diagnosing', 'diseases', 'faster', 'and', 'more', 'accurately', 'however', 'there', 'are', 'concerns', 'about', 'job', 'automation', 'data', 'privacy', 'and', 'ethical', 'implications', 'if', 'you', 'ever', 'want', 'to', 'attend', 'an', 'ai', 'workshop', 'call', '91', '9876543210', '—', 'they', '’', 're', 'happening', 'worldwide', 'despite', 'the', 'challenges', 'one', 'thing', 'is', 'certain', 'ai', 'isn', '’', 't', 'just', 'the', 'future', '—', 'it', '’', 's', 'already', 'here']\n",
      "['\\nartificial intelligence ai is reshaping the world in ways we never imagined from smart assistants like alexa to autonomous vehicles ai is becoming part of everyday life the rise of machine learning algorithms has made it possible to predict outcomes with jawdropping accuracy companies like openai and deepmind are pushing the boundaries of whats possible with large language models if youre curious about ai projects check out wwwfutureofaiorg for some mindblowing innovations researchers often share insights via email like at airesearchfuturemailcom to collaborate and exchange ideas ai has even entered healthcare assisting doctors in diagnosing diseases faster and more accurately however there are concerns about job automation data privacy and ethical implications if you ever want to attend an ai workshop call 91 9876543210 — they’re happening worldwide despite the challenges one thing is certain ai isn’t just the future — it’s already here']\n"
     ]
    }
   ],
   "source": [
    "word_tokens = word_tokenize(text_clean)\n",
    "sent_tokens = sent_tokenize(text_clean)\n",
    "print(word_tokens)\n",
    "print(sent_tokens)"
   ]
  },
  {
   "cell_type": "code",
   "execution_count": 6,
   "id": "5f1d41e9-343a-4808-8df7-67ceeee8eb99",
   "metadata": {},
   "outputs": [
    {
     "name": "stdout",
     "output_type": "stream",
     "text": [
      "['artificial', 'intelligence', 'ai', 'reshaping', 'world', 'ways', 'never', 'imagined', 'smart', 'assistants', 'like', 'alexa', 'autonomous', 'vehicles', 'ai', 'becoming', 'part', 'everyday', 'life', 'rise', 'machine', 'learning', 'algorithms', 'made', 'possible', 'predict', 'outcomes', 'jawdropping', 'accuracy', 'companies', 'like', 'openai', 'deepmind', 'pushing', 'boundaries', 'whats', 'possible', 'large', 'language', 'models', 'youre', 'curious', 'ai', 'projects', 'check', 'wwwfutureofaiorg', 'mindblowing', 'innovations', 'researchers', 'often', 'share', 'insights', 'via', 'email', 'like', 'airesearchfuturemailcom', 'collaborate', 'exchange', 'ideas', 'ai', 'even', 'entered', 'healthcare', 'assisting', 'doctors', 'diagnosing', 'diseases', 'faster', 'accurately', 'however', 'concerns', 'job', 'automation', 'data', 'privacy', 'ethical', 'implications', 'ever', 'want', 'attend', 'ai', 'workshop', 'call', '91', '9876543210', '—', '’', 'happening', 'worldwide', 'despite', 'challenges', 'one', 'thing', 'certain', 'ai', '’', 'future', '—', '’', 'already']\n"
     ]
    }
   ],
   "source": [
    "stop_words = set(stopwords.words('english'))\n",
    "filtered_words = [word for word in word_tokens if word not in stop_words]\n",
    "print(filtered_words)"
   ]
  },
  {
   "cell_type": "code",
   "execution_count": 7,
   "id": "1d658086-4e52-4fad-8d48-7ee391147e8b",
   "metadata": {},
   "outputs": [
    {
     "name": "stdout",
     "output_type": "stream",
     "text": [
      "Word Frequency Distribution (excluding stopwords):\n",
      "[('ai', 6), ('like', 3), ('’', 3), ('possible', 2), ('—', 2), ('artificial', 1), ('intelligence', 1), ('reshaping', 1), ('world', 1), ('ways', 1), ('never', 1), ('imagined', 1), ('smart', 1), ('assistants', 1), ('alexa', 1), ('autonomous', 1), ('vehicles', 1), ('becoming', 1), ('part', 1), ('everyday', 1), ('life', 1), ('rise', 1), ('machine', 1), ('learning', 1), ('algorithms', 1), ('made', 1), ('predict', 1), ('outcomes', 1), ('jawdropping', 1), ('accuracy', 1), ('companies', 1), ('openai', 1), ('deepmind', 1), ('pushing', 1), ('boundaries', 1), ('whats', 1), ('large', 1), ('language', 1), ('models', 1), ('youre', 1), ('curious', 1), ('projects', 1), ('check', 1), ('wwwfutureofaiorg', 1), ('mindblowing', 1), ('innovations', 1), ('researchers', 1), ('often', 1), ('share', 1), ('insights', 1), ('via', 1), ('email', 1), ('airesearchfuturemailcom', 1), ('collaborate', 1), ('exchange', 1), ('ideas', 1), ('even', 1), ('entered', 1), ('healthcare', 1), ('assisting', 1), ('doctors', 1), ('diagnosing', 1), ('diseases', 1), ('faster', 1), ('accurately', 1), ('however', 1), ('concerns', 1), ('job', 1), ('automation', 1), ('data', 1), ('privacy', 1), ('ethical', 1), ('implications', 1), ('ever', 1), ('want', 1), ('attend', 1), ('workshop', 1), ('call', 1), ('91', 1), ('9876543210', 1), ('happening', 1), ('worldwide', 1), ('despite', 1), ('challenges', 1), ('one', 1), ('thing', 1), ('certain', 1), ('future', 1), ('already', 1)]\n"
     ]
    }
   ],
   "source": [
    "from collections import Counter\n",
    "freq_dist = nltk.FreqDist(filtered_words)\n",
    "\n",
    "print(\"Word Frequency Distribution (excluding stopwords):\")\n",
    "print(freq_dist.most_common())"
   ]
  },
  {
   "cell_type": "markdown",
   "id": "d32f1410-7712-44a8-a8b5-b8ad4411053b",
   "metadata": {},
   "source": [
    "# Q2: Stemming and Lemmatization\n",
    "1. Take the tokenized words from QuesƟon 1 (after stopword removal).\n",
    "2. Apply stemming using NLTK's PorterStemmer and LancasterStemmer.\n",
    "3. Apply lemmatization using NLTK's WordNetLemmatizer.\n",
    "4. Compare and display results of both techniques."
   ]
  },
  {
   "cell_type": "code",
   "execution_count": 8,
   "id": "ab6bac9f-89d9-489f-9d47-8efcb2665fd8",
   "metadata": {},
   "outputs": [],
   "source": [
    "porter = PorterStemmer()\n",
    "lancaster = LancasterStemmer()\n",
    "lemmatizer = WordNetLemmatizer()"
   ]
  },
  {
   "cell_type": "code",
   "execution_count": 9,
   "id": "5d1af171-eec1-4220-bc7f-a33ca9b7ae0c",
   "metadata": {},
   "outputs": [],
   "source": [
    "porter_stemmed = [porter.stem(word) for word in filtered_words]\n",
    "lancaster_stemmed = [lancaster.stem(word) for word in filtered_words]\n",
    "lemmatized = [lemmatizer.lemmatize(word) for word in filtered_words]"
   ]
  },
  {
   "cell_type": "code",
   "execution_count": 10,
   "id": "258a91e1-091d-4cd4-91c2-f1ddc6a56959",
   "metadata": {},
   "outputs": [
    {
     "name": "stdout",
     "output_type": "stream",
     "text": [
      "\n",
      "Porter Stemmer: ['artifici', 'intellig', 'ai', 'reshap', 'world', 'way', 'never', 'imagin', 'smart', 'assist', 'like', 'alexa', 'autonom', 'vehicl', 'ai', 'becom', 'part', 'everyday', 'life', 'rise', 'machin', 'learn', 'algorithm', 'made', 'possibl', 'predict', 'outcom', 'jawdrop', 'accuraci', 'compani', 'like', 'openai', 'deepmind', 'push', 'boundari', 'what', 'possibl', 'larg', 'languag', 'model', 'your', 'curiou', 'ai', 'project', 'check', 'wwwfutureofaiorg', 'mindblow', 'innov', 'research', 'often', 'share', 'insight', 'via', 'email', 'like', 'airesearchfuturemailcom', 'collabor', 'exchang', 'idea', 'ai', 'even', 'enter', 'healthcar', 'assist', 'doctor', 'diagnos', 'diseas', 'faster', 'accur', 'howev', 'concern', 'job', 'autom', 'data', 'privaci', 'ethic', 'implic', 'ever', 'want', 'attend', 'ai', 'workshop', 'call', '91', '9876543210', '—', '’', 'happen', 'worldwid', 'despit', 'challeng', 'one', 'thing', 'certain', 'ai', '’', 'futur', '—', '’', 'alreadi']\n",
      "\n",
      "Lancaster Stemmer: ['art', 'intellig', 'ai', 'reshap', 'world', 'way', 'nev', 'imagin', 'smart', 'assist', 'lik', 'alex', 'autonom', 'vehic', 'ai', 'becom', 'part', 'everyday', 'lif', 'ris', 'machin', 'learn', 'algorithm', 'mad', 'poss', 'predict', 'outcom', 'jawdrop', 'acc', 'company', 'lik', 'opena', 'deepmind', 'push', 'bound', 'what', 'poss', 'larg', 'langu', 'model', 'yo', 'cury', 'ai', 'project', 'check', 'wwwfutureofaiorg', 'mindblow', 'innov', 'research', 'oft', 'shar', 'insight', 'via', 'email', 'lik', 'airesearchfuturemailcom', 'collab', 'exchang', 'idea', 'ai', 'ev', 'ent', 'healthc', 'assist', 'doct', 'diagnos', 'diseas', 'fast', 'acc', 'howev', 'concern', 'job', 'autom', 'dat', 'priv', 'eth', 'imply', 'ev', 'want', 'attend', 'ai', 'workshop', 'cal', '91', '9876543210', '—', '’', 'hap', 'worldwid', 'despit', 'challeng', 'on', 'thing', 'certain', 'ai', '’', 'fut', '—', '’', 'already']\n",
      "\n",
      "Lemmatized: ['artificial', 'intelligence', 'ai', 'reshaping', 'world', 'way', 'never', 'imagined', 'smart', 'assistant', 'like', 'alexa', 'autonomous', 'vehicle', 'ai', 'becoming', 'part', 'everyday', 'life', 'rise', 'machine', 'learning', 'algorithm', 'made', 'possible', 'predict', 'outcome', 'jawdropping', 'accuracy', 'company', 'like', 'openai', 'deepmind', 'pushing', 'boundary', 'whats', 'possible', 'large', 'language', 'model', 'youre', 'curious', 'ai', 'project', 'check', 'wwwfutureofaiorg', 'mindblowing', 'innovation', 'researcher', 'often', 'share', 'insight', 'via', 'email', 'like', 'airesearchfuturemailcom', 'collaborate', 'exchange', 'idea', 'ai', 'even', 'entered', 'healthcare', 'assisting', 'doctor', 'diagnosing', 'disease', 'faster', 'accurately', 'however', 'concern', 'job', 'automation', 'data', 'privacy', 'ethical', 'implication', 'ever', 'want', 'attend', 'ai', 'workshop', 'call', '91', '9876543210', '—', '’', 'happening', 'worldwide', 'despite', 'challenge', 'one', 'thing', 'certain', 'ai', '’', 'future', '—', '’', 'already']\n"
     ]
    }
   ],
   "source": [
    "print(\"\\nPorter Stemmer:\", porter_stemmed)\n",
    "print(\"\\nLancaster Stemmer:\", lancaster_stemmed)\n",
    "print(\"\\nLemmatized:\", lemmatized)"
   ]
  },
  {
   "cell_type": "markdown",
   "id": "07d646b0-09b7-4256-af4b-7c2350307d5f",
   "metadata": {},
   "source": [
    "# Q3. Regular Expressions and Text Splitting\n",
    "\n",
    "- 1. Take the original text from Question 1.\n",
    "- 2. Use regular expressions to:\n",
    "  - a. Extract all words with more than 5 letters.\n",
    "  - b. Extract all numbers (if any exist in their text).\n",
    "  - c. Extract all capitalized words.\n",
    "- 3. Use text splitting techniques to:\n",
    "  - a. Split the text into words containing only alphabets (removing digits and special characters).\n",
    "  - b. Extract words starting with a vowel."
   ]
  },
  {
   "cell_type": "code",
   "execution_count": 11,
   "id": "ebf6a3e3-8931-44fe-b273-469f55bf54b1",
   "metadata": {},
   "outputs": [],
   "source": [
    "words_gt_5 = re.findall(r'\\b\\w{6,}\\b', text)\n",
    "numbers = re.findall(r'\\d+', text)\n",
    "capitalized = re.findall(r'\\b[A-Z][a-z]*\\b', text)\n",
    "alpha_words = re.findall(r'\\b[a-zA-Z]+\\b', text)\n",
    "vowel_words = [word for word in alpha_words if word[0].lower() in 'aeiou']"
   ]
  },
  {
   "cell_type": "code",
   "execution_count": 12,
   "id": "297af476-ce40-4b12-8ffa-cb11be239378",
   "metadata": {},
   "outputs": [
    {
     "name": "stdout",
     "output_type": "stream",
     "text": [
      "\n",
      "Words > 5 letters: ['Artificial', 'Intelligence', 'reshaping', 'imagined', 'assistants', 'autonomous', 'vehicles', 'becoming', 'everyday', 'machine', 'learning', 'algorithms', 'possible', 'predict', 'outcomes', 'dropping', 'accuracy', 'Companies', 'OpenAI', 'DeepMind', 'pushing', 'boundaries', 'possible', 'language', 'models', 'curious', 'projects', 'futureofai', 'blowing', 'innovations', 'Researchers', 'insights', 'research', 'futuremail', 'collaborate', 'exchange', 'entered', 'healthcare', 'assisting', 'doctors', 'diagnosing', 'diseases', 'faster', 'accurately', 'However', 'concerns', 'automation', 'privacy', 'ethical', 'implications', 'attend', 'workshop', '9876543210', 'happening', 'worldwide', 'Despite', 'challenges', 'certain', 'future', 'already']\n",
      "\n",
      "Numbers: ['91', '9876543210']\n",
      "\n",
      "Capitalized Words: ['Artificial', 'Intelligence', 'From', 'Alexa', 'The', 'Companies', 'If', 'Researchers', 'However', 'If', 'Despite']\n",
      "\n",
      "Alphabetic Words: ['Artificial', 'Intelligence', 'AI', 'is', 'reshaping', 'the', 'world', 'in', 'ways', 'we', 'never', 'imagined', 'From', 'smart', 'assistants', 'like', 'Alexa', 'to', 'autonomous', 'vehicles', 'AI', 'is', 'becoming', 'part', 'of', 'everyday', 'life', 'The', 'rise', 'of', 'machine', 'learning', 'algorithms', 'has', 'made', 'it', 'possible', 'to', 'predict', 'outcomes', 'with', 'jaw', 'dropping', 'accuracy', 'Companies', 'like', 'OpenAI', 'and', 'DeepMind', 'are', 'pushing', 'the', 'boundaries', 'of', 'what', 's', 'possible', 'with', 'large', 'language', 'models', 'If', 'you', 're', 'curious', 'about', 'AI', 'projects', 'check', 'out', 'www', 'futureofai', 'org', 'for', 'some', 'mind', 'blowing', 'innovations', 'Researchers', 'often', 'share', 'insights', 'via', 'email', 'like', 'at', 'ai', 'research', 'futuremail', 'com', 'to', 'collaborate', 'and', 'exchange', 'ideas', 'AI', 'has', 'even', 'entered', 'healthcare', 'assisting', 'doctors', 'in', 'diagnosing', 'diseases', 'faster', 'and', 'more', 'accurately', 'However', 'there', 'are', 'concerns', 'about', 'job', 'automation', 'data', 'privacy', 'and', 'ethical', 'implications', 'If', 'you', 'ever', 'want', 'to', 'attend', 'an', 'AI', 'workshop', 'call', 'they', 're', 'happening', 'worldwide', 'Despite', 'the', 'challenges', 'one', 'thing', 'is', 'certain', 'AI', 'isn', 't', 'just', 'the', 'future', 'it', 's', 'already', 'here']\n",
      "\n",
      "Words starting with vowels: ['Artificial', 'Intelligence', 'AI', 'is', 'in', 'imagined', 'assistants', 'Alexa', 'autonomous', 'AI', 'is', 'of', 'everyday', 'of', 'algorithms', 'it', 'outcomes', 'accuracy', 'OpenAI', 'and', 'are', 'of', 'If', 'about', 'AI', 'out', 'org', 'innovations', 'often', 'insights', 'email', 'at', 'ai', 'and', 'exchange', 'ideas', 'AI', 'even', 'entered', 'assisting', 'in', 'and', 'accurately', 'are', 'about', 'automation', 'and', 'ethical', 'implications', 'If', 'ever', 'attend', 'an', 'AI', 'one', 'is', 'AI', 'isn', 'it', 'already']\n"
     ]
    }
   ],
   "source": [
    "print(\"\\nWords > 5 letters:\", words_gt_5)\n",
    "print(\"\\nNumbers:\", numbers)\n",
    "print(\"\\nCapitalized Words:\", capitalized)\n",
    "print(\"\\nAlphabetic Words:\", alpha_words)\n",
    "print(\"\\nWords starting with vowels:\", vowel_words)"
   ]
  },
  {
   "cell_type": "markdown",
   "id": "b54c97fe-6988-4915-b565-48ba7d6ee1e5",
   "metadata": {},
   "source": [
    "# Q4. Custom Tokenization & Regex-based Text Cleaning\n",
    "\n",
    "- 1. Take original text from Question 1.\n",
    "- 2. Write a custom tokenization function that:\n",
    "   - a. Removes punctuation and special symbols, but keeps contractions (e.g., \"isn't\" should not be split into \"is\" and \"n't\").\n",
    "   - b. Handles hyphenated words as a single token (e.g., \"state-of-the-art\" remains a single token).\n",
    "   - c. Tokenizes numbers separately but keeps decimal numbers intact (e.g., \"3.14\" should remain as is).\n",
    "- 3. Use Regex Substitutions (re.sub) to:\n",
    "   - a. Replace email addresses with '<EMAIL>' placeholder.\n",
    "   - b. Replace URLs with '<URL>' placeholder.\n",
    "   - c. Replace phone numbers (formats: 123-456-7890 or +91 9876543210) with '<PHONE>' placeholder."
   ]
  },
  {
   "cell_type": "code",
   "execution_count": 13,
   "id": "3ddc211a-b3ca-4181-9dc0-0dc439784096",
   "metadata": {},
   "outputs": [
    {
     "name": "stdout",
     "output_type": "stream",
     "text": [
      "\n",
      "Custom Tokens: ['Artificial', 'Intelligence', 'AI', 'is', 'reshaping', 'the', 'world', 'in', 'ways', 'we', 'never', 'imagined', 'From', 'smart', 'assistants', 'like', 'Alexa', 'to', 'autonomous', 'vehicles', 'AI', 'is', 'becoming', 'part', 'of', 'everyday', 'life', 'The', 'rise', 'of', 'machine', 'learning', 'algorithms', 'has', 'made', 'it', 'possible', 'to', 'predict', 'outcomes', 'with', 'jaw-dropping', 'accuracy', 'Companies', 'like', 'OpenAI', 'and', 'DeepMind', 'are', 'pushing', 'the', 'boundaries', 'of', \"what's\", 'possible', 'with', 'large', 'language', 'models', 'If', \"you're\", 'curious', 'about', 'AI', 'projects', 'check', 'out', 'www', 'futureofai', 'org', 'for', 'some', 'mind-blowing', 'innovations', 'Researchers', 'often', 'share', 'insights', 'via', 'email', 'like', 'at', 'ai', 'research', 'futuremail', 'com', 'to', 'collaborate', 'and', 'exchange', 'ideas', 'AI', 'has', 'even', 'entered', 'healthcare', 'assisting', 'doctors', 'in', 'diagnosing', 'diseases', 'faster', 'and', 'more', 'accurately', 'However', 'there', 'are', 'concerns', 'about', 'job', 'automation', 'data', 'privacy', 'and', 'ethical', 'implications', 'If', 'you', 'ever', 'want', 'to', 'attend', 'an', 'AI', 'workshop', 'call', '91', '9876543210', 'they', 're', 'happening', 'worldwide', 'Despite', 'the', 'challenges', 'one', 'thing', 'is', 'certain', 'AI', 'isn', 't', 'just', 'the', 'future', 'it', 's', 'already', 'here']\n",
      "\n",
      "Text after substitutions: \n",
      "Artificial Intelligence (AI) is reshaping the world in ways we never imagined. From smart assistants like Alexa to autonomous vehicles, AI is becoming part of everyday life. The rise of machine learning algorithms has made it possible to predict outcomes with jaw-dropping accuracy. Companies like OpenAI and DeepMind are pushing the boundaries of what's possible with large language models. If you're curious about AI projects, check out <URL> for some mind-blowing innovations. Researchers often share insights via email, like at <EMAIL>, to collaborate and exchange ideas. AI has even entered healthcare, assisting doctors in diagnosing diseases faster and more accurately. However, there are concerns about job automation, data privacy, and ethical implications. If you ever want to attend an AI workshop, call +91 <PHONE> — they’re happening worldwide. Despite the challenges, one thing is certain: AI isn’t just the future — it’s already here.\n",
      "\n"
     ]
    }
   ],
   "source": [
    "def custom_tokenizer(text):\n",
    "    pattern = r\"\\b(?:[a-zA-Z]+(?:'[a-z]+)?(?:-[a-z]+)*|\\d+(?:\\.\\d+)?)\\b\"\n",
    "    return re.findall(pattern, text)\n",
    "\n",
    "custom_tokens = custom_tokenizer(text)\n",
    "\n",
    "text_sub = re.sub(r'\\b[\\w\\.-]+@[\\w\\.-]+\\.\\w+\\b', '<EMAIL>', text)\n",
    "text_sub = re.sub(r'http\\S+|www\\.\\S+', '<URL>', text_sub)\n",
    "text_sub = re.sub(r'\\b(?:\\+91[-\\s]?|0)?\\d{10}\\b|\\d{3}-\\d{3}-\\d{4}', '<PHONE>', text_sub)\n",
    "\n",
    "print(\"\\nCustom Tokens:\", custom_tokens)\n",
    "print(\"\\nText after substitutions:\", text_sub)"
   ]
  },
  {
   "cell_type": "code",
   "execution_count": null,
   "id": "fa8f481b-3ad5-42c3-9c33-ea3c4b4398ec",
   "metadata": {},
   "outputs": [],
   "source": []
  }
 ],
 "metadata": {
  "kernelspec": {
   "display_name": "Python 3 (ipykernel)",
   "language": "python",
   "name": "python3"
  },
  "language_info": {
   "codemirror_mode": {
    "name": "ipython",
    "version": 3
   },
   "file_extension": ".py",
   "mimetype": "text/x-python",
   "name": "python",
   "nbconvert_exporter": "python",
   "pygments_lexer": "ipython3",
   "version": "3.12.8"
  }
 },
 "nbformat": 4,
 "nbformat_minor": 5
}
